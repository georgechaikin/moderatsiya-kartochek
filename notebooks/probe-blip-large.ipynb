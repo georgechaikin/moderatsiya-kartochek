{
 "cells": [
  {
   "cell_type": "code",
   "execution_count": 1,
   "id": "8ae86ae4-92cf-4c60-baa2-d2bcf6304b9c",
   "metadata": {},
   "outputs": [],
   "source": [
    "from typing import Optional, Union\n",
    "\n",
    "import torch\n",
    "from torch import nn\n",
    "from torch.nn import CrossEntropyLoss, BCEWithLogitsLoss\n",
    "from transformers import CLIPForImageClassification, Trainer, TrainingArguments\n",
    "from transformers import BlipConfig, BlipModel, BlipVisionModel, BlipPreTrainedModel\n",
    "from transformers.modeling_outputs import ImageClassifierOutput\n",
    "\n",
    "\n",
    "# Класс наподобие CLIPForImageClassification\n",
    "class BlipForImageClassification(BlipPreTrainedModel):\n",
    "    \"\"\"\n",
    "    Классификатор с BLIP Vision Encoder\n",
    "    \"\"\"\n",
    "\n",
    "    def __init__(self, config: BlipConfig) -> None:\n",
    "        super().__init__(config)\n",
    "        self.num_labels = config.num_labels\n",
    "        vision_model = BlipVisionModel._from_config(\n",
    "            config.vision_config, attn_implementation=config._attn_implementation\n",
    "        )\n",
    "        self.vision_model = vision_model\n",
    "\n",
    "        # Classifier head\n",
    "        self.classifier = (\n",
    "            nn.Linear(config.vision_config.hidden_size, config.num_labels) if config.num_labels > 0 else nn.Identity()\n",
    "        )\n",
    "\n",
    "        # Initialize weights and apply final processing\n",
    "        self.post_init()\n",
    "\n",
    "    def forward(\n",
    "        self,\n",
    "        pixel_values: Optional[torch.Tensor] = None,\n",
    "        labels: Optional[torch.Tensor] = None,\n",
    "        output_attentions: Optional[bool] = None,\n",
    "        output_hidden_states: Optional[bool] = None,\n",
    "        return_dict: Optional[bool] = None,\n",
    "    ) -> Union[tuple, ImageClassifierOutput]:\n",
    "        r\"\"\"\n",
    "        labels (`torch.LongTensor` of shape `(batch_size,)`, *optional*):\n",
    "            Labels for computing the image classification/regression loss. Indices should be in `[0, ...,\n",
    "            config.num_labels - 1]`. If `config.num_labels == 1` a regression loss is computed (Mean-Square loss), If\n",
    "            `config.num_labels > 1` a classification loss is computed (Cross-Entropy).\n",
    "        \"\"\"\n",
    "        output_attentions = output_attentions if output_attentions is not None else self.config.output_attentions\n",
    "        output_hidden_states = (\n",
    "            output_hidden_states if output_hidden_states is not None else self.config.output_hidden_states\n",
    "        )\n",
    "        return_dict = return_dict if return_dict is not None else self.config.use_return_dict\n",
    "\n",
    "        outputs = self.vision_model(\n",
    "            pixel_values,\n",
    "            output_attentions=output_attentions,\n",
    "            output_hidden_states=output_hidden_states,\n",
    "            return_dict=return_dict,\n",
    "        )\n",
    "\n",
    "        sequence_output = outputs[0]\n",
    "\n",
    "        # average pool the patch tokens\n",
    "        sequence_output = torch.mean(sequence_output[:, 1:, :], dim=1)\n",
    "        # apply classifier\n",
    "        logits = self.classifier(sequence_output)\n",
    "\n",
    "        loss = None\n",
    "        if labels is not None:\n",
    "            # move labels to correct device to enable model parallelism\n",
    "            labels = labels.to(logits.device)\n",
    "            if self.config.problem_type is None:\n",
    "                if self.num_labels == 1:\n",
    "                    self.config.problem_type = \"regression\"\n",
    "                elif self.num_labels > 1 and (labels.dtype == torch.long or labels.dtype == torch.int):\n",
    "                    self.config.problem_type = \"single_label_classification\"\n",
    "                else:\n",
    "                    self.config.problem_type = \"multi_label_classification\"\n",
    "\n",
    "            if self.config.problem_type == \"regression\":\n",
    "                loss_fct = MSELoss()\n",
    "                if self.num_labels == 1:\n",
    "                    loss = loss_fct(logits.squeeze(), labels.squeeze())\n",
    "                else:\n",
    "                    loss = loss_fct(logits, labels)\n",
    "            elif self.config.problem_type == \"single_label_classification\":\n",
    "                loss_fct = CrossEntropyLoss()\n",
    "                loss = loss_fct(logits.view(-1, self.num_labels), labels.view(-1))\n",
    "            elif self.config.problem_type == \"multi_label_classification\":\n",
    "                loss_fct = BCEWithLogitsLoss()\n",
    "                loss = loss_fct(logits, labels)\n",
    "\n",
    "        if not return_dict:\n",
    "            output = (logits,) + outputs[2:]\n",
    "            return ((loss,) + output) if loss is not None else output\n",
    "\n",
    "        return ImageClassifierOutput(\n",
    "            loss=loss,\n",
    "            logits=logits,\n",
    "            hidden_states=outputs.hidden_states,\n",
    "            attentions=outputs.attentions,\n",
    "        )"
   ]
  },
  {
   "cell_type": "code",
   "execution_count": null,
   "id": "1c904ee9-1fe6-4637-8092-cc37b2904d79",
   "metadata": {
    "scrolled": true
   },
   "outputs": [],
   "source": [
    "from transformers import BlipProcessor\n",
    "\n",
    "model_name = \"Salesforce/blip-image-captioning-large\"\n",
    "processor = BlipProcessor.from_pretrained(model_name)\n",
    "model = BlipForImageClassification.from_pretrained(model_name, num_labels=2)\n",
    "\n",
    "for param in model.vision_model.parameters():\n",
    "    param.requires_grad = False"
   ]
  },
  {
   "cell_type": "code",
   "execution_count": 3,
   "id": "13bb3d4f-0925-4d2a-8229-6fc4b1623b5f",
   "metadata": {},
   "outputs": [
    {
     "name": "stdout",
     "output_type": "stream",
     "text": [
      "Dataset loading...\n"
     ]
    },
    {
     "data": {
      "application/vnd.jupyter.widget-view+json": {
       "model_id": "246012e85a0a4219ae6cc06b7ea50168",
       "version_major": 2,
       "version_minor": 0
      },
      "text/plain": [
       "Resolving data files:   0%|          | 0/6602 [00:00<?, ?it/s]"
      ]
     },
     "metadata": {},
     "output_type": "display_data"
    },
    {
     "name": "stdout",
     "output_type": "stream",
     "text": [
      "{'image': Image(mode=None, decode=True, id=None), 'label': ClassLabel(names=['cigs', 'other', 'pipes', 'roll_cigs', 'smoking'], id=None)}\n",
      "Done\n"
     ]
    }
   ],
   "source": [
    "from datasets import load_dataset\n",
    "from pathlib import Path\n",
    "\n",
    "print(\"Dataset loading...\")\n",
    "data_dir = Path('../data')\n",
    "ds = load_dataset(\"imagefolder\", data_dir=data_dir, split=\"train\")\n",
    "print(ds.features)\n",
    "print(\"Done\")"
   ]
  },
  {
   "cell_type": "code",
   "execution_count": null,
   "id": "5b744e42-3290-49e3-8a05-5827ecde55c6",
   "metadata": {
    "scrolled": true
   },
   "outputs": [],
   "source": [
    "import random\n",
    "from PIL import ImageDraw, ImageFont, Image\n",
    "\n",
    "def show_examples(ds, seed: int = 1234, examples_per_class: int = 3, size=(224, 224)):\n",
    "\n",
    "    w, h = size\n",
    "    labels = ds.features['label'].names\n",
    "    grid = Image.new('RGB', size=(examples_per_class * w, len(labels) * h))\n",
    "    draw = ImageDraw.Draw(grid)\n",
    "    # font = ImageFont.truetype(\"/usr/share/fonts/truetype/liberation/LiberationMono-Bold.ttf\", 24)\n",
    "\n",
    "    for label_id, label in enumerate(labels):\n",
    "\n",
    "        # Filter the dataset by a single label, shuffle it, and grab a few samples\n",
    "        ds_slice = ds.filter(lambda ex: ex['label'] == label_id).shuffle(seed).select(range(examples_per_class))\n",
    "\n",
    "        # Plot this label's examples along a row\n",
    "        for i, example in enumerate(ds_slice):\n",
    "            image = example['image']\n",
    "            idx = examples_per_class * label_id + i\n",
    "            box = (idx % examples_per_class * w, idx // examples_per_class * h)\n",
    "            grid.paste(image.resize(size), box=box)\n",
    "            draw.text(box, label, (0, 255, 0))\n",
    "\n",
    "    return grid\n",
    "\n",
    "show_examples(ds, seed=random.randint(0, 1337), examples_per_class=3)"
   ]
  },
  {
   "cell_type": "code",
   "execution_count": 5,
   "id": "a379fb83-3dbc-4476-8c6b-a5ffbbd97eb6",
   "metadata": {},
   "outputs": [],
   "source": [
    "from typing import Tuple, List\n",
    "from dataclasses import dataclass\n",
    "\n",
    "from torch.utils.data import Dataset, DataLoader\n",
    "\n",
    "@dataclass\n",
    "class ImageDataset(Dataset):\n",
    "    dataset: Dataset\n",
    "    processor: BlipProcessor\n",
    "    positive_labels:List[str]\n",
    "\n",
    "    def __len__(self)->int:\n",
    "        return len(self.dataset)\n",
    "    \n",
    "    def __getitem__(self, idx: int)->Tuple:\n",
    "        image = self.dataset[idx]['image'].convert(\"RGB\")\n",
    "        inputs = self.processor(images=image, return_tensors=\"pt\")\n",
    "        inputs['pixel_values'] = inputs['pixel_values'].squeeze(0)\n",
    "        label = self.dataset[idx]['label']\n",
    "        label_string = self.dataset.features['label'].int2str(label)\n",
    "        label = 1 if label_string in self.positive_labels else 0\n",
    "        inputs['label'] = label\n",
    "        return inputs\n",
    "\n",
    "train_test_split = ds.train_test_split(test_size=0.2)\n",
    "train_ds = train_test_split['train']\n",
    "val_ds = train_test_split['test']\n",
    "\n",
    "positive_classes = list(filter(lambda name: name!='other', ds.features['label'].names))\n",
    "train_ds = ImageDataset(train_ds, processor, positive_classes)\n",
    "val_ds = ImageDataset(val_ds, processor, positive_classes)"
   ]
  },
  {
   "cell_type": "code",
   "execution_count": 7,
   "id": "5442e280-9a61-4b40-b8c4-37d1fa309377",
   "metadata": {},
   "outputs": [],
   "source": [
    "import evaluate\n",
    "\n",
    "accuracy = evaluate.load(\"accuracy\")\n",
    "f1 = evaluate.load(\"f1\")\n",
    "precision = evaluate.load(\"precision\")\n",
    "recall = evaluate.load(\"recall\")\n",
    "auc = evaluate.load(\"roc_auc\")"
   ]
  },
  {
   "cell_type": "code",
   "execution_count": 8,
   "id": "a91cc5fe-a523-4814-b532-cb8c1c4b7297",
   "metadata": {},
   "outputs": [],
   "source": [
    "import numpy as np\n",
    "from scipy.special import softmax\n",
    "\n",
    "def compute_metrics(eval_pred):\n",
    "    logits, labels = eval_pred\n",
    "    predictions = np.argmax(logits, axis=1)\n",
    "    accuracy_val = accuracy.compute(predictions=predictions, references=labels)\n",
    "    f1_val = f1.compute(predictions=predictions, references=labels)\n",
    "    precision_val = precision.compute(predictions=predictions, references=labels)\n",
    "    recall_val = recall.compute(predictions=predictions, references=labels)\n",
    "    \n",
    "    preds = softmax(logits, axis=1)[:,1]\n",
    "    auc_value = auc.compute(\n",
    "        prediction_scores=preds,\n",
    "        references=labels)\n",
    "    \n",
    "    return accuracy_val | f1_val | precision_val | recall_val | auc_value"
   ]
  },
  {
   "cell_type": "code",
   "execution_count": 10,
   "id": "3089a4ad-0d81-4e16-b41c-194c03296bc6",
   "metadata": {},
   "outputs": [],
   "source": [
    "from transformers import TrainingArguments\n",
    "# Define the training arguments\n",
    "train_batch_size = 16\n",
    "training_args = TrainingArguments(\n",
    "    output_dir=Path('../data/models/blip-large-probe-2'),\n",
    "    eval_strategy=\"epoch\",\n",
    "    per_device_train_batch_size=train_batch_size,\n",
    "    per_device_eval_batch_size=16,\n",
    "    num_train_epochs=50,\n",
    "    logging_dir=Path('../data/logs'),\n",
    "    logging_steps=10,\n",
    "    save_steps=len(train_ds) // train_batch_size,\n",
    "    save_total_limit=None,\n",
    "    fp16=True,\n",
    ")"
   ]
  },
  {
   "cell_type": "code",
   "execution_count": null,
   "id": "d1603cf9-753d-4039-a108-deaacd793999",
   "metadata": {},
   "outputs": [],
   "source": [
    "trainer = Trainer(\n",
    "    model=model,\n",
    "    args=training_args,\n",
    "    train_dataset=train_ds,\n",
    "    eval_dataset=val_ds,\n",
    "    compute_metrics=compute_metrics,\n",
    ")\n",
    "trainer.train()"
   ]
  },
  {
   "cell_type": "code",
   "execution_count": null,
   "id": "b9f673f7-248a-4b70-9de3-a560392ff15d",
   "metadata": {
    "scrolled": true
   },
   "outputs": [],
   "source": [
    "from tqdm.notebook import tqdm\n",
    "\n",
    "device = torch.device('cuda:0' if torch.cuda.is_available() else 'cpu')\n",
    "\n",
    "y_preds = torch.Tensor().to(device)\n",
    "y_true = torch.Tensor().to(device)\n",
    "progress_bar = tqdm(total=len(val_ds))\n",
    "data_loader = DataLoader(val_ds, batch_size=128, shuffle=True)\n",
    "step = data_loader.batch_size\n",
    "\n",
    "for batch in data_loader:\n",
    "    images, labels = batch['pixel_values'], batch['label']\n",
    "    images = images.to(device)\n",
    "    labels = labels.to(device)\n",
    "    with torch.no_grad():\n",
    "        outputs = model(images)\n",
    "    probs = outputs.logits.softmax(dim=1)\n",
    "    y_preds = torch.concat([y_preds, probs])\n",
    "    y_true = torch.concat([y_true, labels])\n",
    "    \n",
    "    progress_bar.update(step)"
   ]
  },
  {
   "cell_type": "code",
   "execution_count": 78,
   "id": "3f520091-60e3-4a9e-b508-f8ea687db4da",
   "metadata": {
    "scrolled": true
   },
   "outputs": [
    {
     "data": {
      "text/plain": [
       "(0.9856169568508706,\n",
       " 0.9816326530612245,\n",
       " 0.9796334012219959,\n",
       " 0.9806320081549439,\n",
       " 0.9993472873162712)"
      ]
     },
     "execution_count": 78,
     "metadata": {},
     "output_type": "execute_result"
    }
   ],
   "source": [
    "import numpy as np\n",
    "from sklearn.metrics import accuracy_score, precision_score, recall_score, f1_score, roc_auc_score\n",
    "\n",
    "positive_labels = ['cigs', 'pipes', 'roll_cigs', 'smoking']\n",
    "y_preds_arr = y_preds.to('cpu').numpy()[:, 1]\n",
    "\n",
    "y_true_arr = y_true.to('cpu').numpy().astype(np.int32)\n",
    "threshold = 0.5\n",
    "accuracy_score(y_true_arr, y_preds_arr>threshold), precision_score(y_true_arr, y_preds_arr>threshold), recall_score(y_true_arr, y_preds_arr>threshold), f1_score(y_true_arr, y_preds_arr>threshold), roc_auc_score(y_true_arr, y_preds_arr)"
   ]
  },
  {
   "cell_type": "code",
   "execution_count": 79,
   "id": "bb4b0d64-cf76-43cb-87cb-e979d919eed3",
   "metadata": {},
   "outputs": [
    {
     "data": {
      "image/png": "[encoded data removed]",
      "text/plain": [
       "<Figure size 640x480 with 1 Axes>"
      ]
     },
     "metadata": {},
     "output_type": "display_data"
    }
   ],
   "source": [
    "import numpy as np\n",
    "from sklearn.metrics import precision_recall_curve, roc_curve\n",
    "from sklearn.metrics import PrecisionRecallDisplay, RocCurveDisplay\n",
    "import matplotlib.pyplot as plt\n",
    "\n",
    "PrecisionRecallDisplay.from_predictions(y_true_arr, y_preds_arr, plot_chance_level=True)\n",
    "plt.show()"
   ]
  },
  {
   "cell_type": "code",
   "execution_count": 80,
   "id": "5124151e-805d-4ae8-8254-9625b8c9abbe",
   "metadata": {},
   "outputs": [
    {
     "data": {
      "image/png": "[encoded data removed]",
      "text/plain": [
       "<Figure size 640x480 with 1 Axes>"
      ]
     },
     "metadata": {},
     "output_type": "display_data"
    }
   ],
   "source": [
    "from sklearn.metrics import precision_recall_curve, roc_curve\n",
    "import matplotlib.pyplot as plt\n",
    "\n",
    "RocCurveDisplay.from_predictions(y_true_arr, y_preds_arr, plot_chance_level=True)\n",
    "plt.show()"
   ]
  }
 ],
 "metadata": {
  "kernelspec": {
   "display_name": "Python 3 (ipykernel)",
   "language": "python",
   "name": "python3"
  },
  "language_info": {
   "codemirror_mode": {
    "name": "ipython",
    "version": 3
   },
   "file_extension": ".py",
   "mimetype": "text/x-python",
   "name": "python",
   "nbconvert_exporter": "python",
   "pygments_lexer": "ipython3",
   "version": "3.10.11"
  }
 },
 "nbformat": 4,
 "nbformat_minor": 5
}
